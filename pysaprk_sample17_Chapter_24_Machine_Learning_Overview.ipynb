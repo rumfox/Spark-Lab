{
 "cells": [
  {
   "cell_type": "code",
   "execution_count": 1,
   "id": "4e585834",
   "metadata": {},
   "outputs": [
    {
     "name": "stderr",
     "output_type": "stream",
     "text": [
      "WARNING: An illegal reflective access operation has occurred\n",
      "WARNING: Illegal reflective access by org.apache.spark.unsafe.Platform (file:/usr/local/spark-3.2.0-bin-hadoop3.2/jars/spark-unsafe_2.12-3.2.0.jar) to constructor java.nio.DirectByteBuffer(long,int)\n",
      "WARNING: Please consider reporting this to the maintainers of org.apache.spark.unsafe.Platform\n",
      "WARNING: Use --illegal-access=warn to enable warnings of further illegal reflective access operations\n",
      "WARNING: All illegal access operations will be denied in a future release\n",
      "Using Spark's default log4j profile: org/apache/spark/log4j-defaults.properties\n",
      "Setting default log level to \"WARN\".\n",
      "To adjust logging level use sc.setLogLevel(newLevel). For SparkR, use setLogLevel(newLevel).\n",
      "22/01/25 01:20:02 WARN NativeCodeLoader: Unable to load native-hadoop library for your platform... using builtin-java classes where applicable\n"
     ]
    }
   ],
   "source": [
    "# create a spark session\n",
    "from pyspark.sql import SparkSession\n",
    "spark = SparkSession.builder.master(\"local[*]\").\\\n",
    "                                     appName(\"spark_on_docker\").\\\n",
    "                                     getOrCreate()"
   ]
  },
  {
   "cell_type": "markdown",
   "id": "5d2ddd52",
   "metadata": {},
   "source": [
    "Low-level data types\n",
    "\n",
    "Whenever we pass\n",
    "a set of features into a machine learning model, we must do it as a vector that consists of Doubles. \n",
    "\n",
    "This vector can be either sparse (where most of the elements are zero) or dense (where there are many unique values). \n",
    "\n",
    "Vectors are created in different ways. To create a dense vector, we can specify an array of all the values. To create a sparse vector, we can specify the total size and the indices and values of the non-zero elements. Sparse is the best format, as you might have guessed, when the majority of values are zero as this is a more compressed representation. Here is an example of how to manually create a Vector:"
   ]
  },
  {
   "cell_type": "code",
   "execution_count": 2,
   "id": "61c62579",
   "metadata": {},
   "outputs": [],
   "source": [
    "from pyspark.ml.linalg import Vectors\n",
    "\n",
    "denseVec = Vectors.dense(1.0, 2.0, 3.0)\n",
    "size = 3\n",
    "idx = [1, 2] # locations of non-zero elements in vector\n",
    "values = [2.0, 3.0]\n",
    "sparseVec = Vectors.sparse(size, idx, values)"
   ]
  },
  {
   "cell_type": "code",
   "execution_count": 6,
   "id": "8f17ecf2",
   "metadata": {},
   "outputs": [
    {
     "data": {
      "text/plain": [
       "SparseVector(3, {1: 2.0, 2: 3.0})"
      ]
     },
     "execution_count": 6,
     "metadata": {},
     "output_type": "execute_result"
    }
   ],
   "source": [
    "sparseVec"
   ]
  },
  {
   "cell_type": "code",
   "execution_count": 4,
   "id": "63960df0",
   "metadata": {},
   "outputs": [
    {
     "data": {
      "text/plain": [
       "DenseVector([1.0, 2.0, 3.0])"
      ]
     },
     "execution_count": 4,
     "metadata": {},
     "output_type": "execute_result"
    }
   ],
   "source": [
    "denseVec"
   ]
  },
  {
   "cell_type": "markdown",
   "id": "47c7e0ff",
   "metadata": {},
   "source": [
    "MLlib in Action\n",
    "\n",
    "Now that we have described some of the core pieces you can expect to come across, let’s create a simple pipeline to demonstrate each of the components. We’ll use a small synthetic dataset that will help illustrate our point. Let’s read the data in and see a sample before talking about it further:"
   ]
  },
  {
   "cell_type": "code",
   "execution_count": 7,
   "id": "c7d01110",
   "metadata": {},
   "outputs": [
    {
     "name": "stderr",
     "output_type": "stream",
     "text": [
      "                                                                                \r"
     ]
    }
   ],
   "source": [
    "df = spark.read.json(\"work/TheDefinitiveGuide/Spark-The-Definitive-Guide/data/simple-ml\")"
   ]
  },
  {
   "cell_type": "code",
   "execution_count": 8,
   "id": "2b51a39d",
   "metadata": {},
   "outputs": [
    {
     "name": "stdout",
     "output_type": "stream",
     "text": [
      "root\n",
      " |-- color: string (nullable = true)\n",
      " |-- lab: string (nullable = true)\n",
      " |-- value1: long (nullable = true)\n",
      " |-- value2: double (nullable = true)\n",
      "\n"
     ]
    }
   ],
   "source": [
    "df.printSchema()"
   ]
  },
  {
   "cell_type": "code",
   "execution_count": 9,
   "id": "d55be49d",
   "metadata": {},
   "outputs": [
    {
     "name": "stdout",
     "output_type": "stream",
     "text": [
      "+-----+----+------+------------------+\n",
      "|color| lab|value1|            value2|\n",
      "+-----+----+------+------------------+\n",
      "|  red|good|    35|14.386294994851129|\n",
      "| blue| bad|    12|14.386294994851129|\n",
      "|  red| bad|     2|14.386294994851129|\n",
      "| blue| bad|     8|14.386294994851129|\n",
      "|  red| bad|    16|14.386294994851129|\n",
      "+-----+----+------+------------------+\n",
      "only showing top 5 rows\n",
      "\n"
     ]
    }
   ],
   "source": [
    "df.orderBy(\"value2\").show(5)"
   ]
  },
  {
   "cell_type": "markdown",
   "id": "a4d65404",
   "metadata": {},
   "source": [
    "Feature Engineering with Transformers\n",
    "\n",
    "As already mentioned, transformers help us manipulate our current columns in one way or another. \n",
    "\n",
    "Manipulating these columns is often in pursuit of building features (that we will input into our model). \n",
    "\n",
    "Transformers exist to either cut down the number of features, add more features, manipulate current ones, or simply to help us format our data correctly. Transformers add new columns to DataFrames.\n",
    "\n",
    "When we use MLlib, all inputs to machine learning algorithms in Spark must consist of type Double (for labels) and Vector[Double] (for features). The current dataset does not meet that requirement and therefore we need to transform it to the proper format.\n",
    "\n",
    "To achieve this in our example, we are going to specify an RFormula. This is a declarative language for specifying machine learning transformations and is simple to use once you understand the syntax. Formula supports a limited subset of the R operators that in practice work quite well for simple models and manipulations. \n",
    "\n",
    "The basic RFormula operators are:\n",
    "\n",
    "~\n",
    "    Separate target and terms\n",
    "\n",
    "+\n",
    "    Concat terms; “+ 0” means removing the intercept (this means that the y-intercept of the linethat we will fit will be 0)\n",
    "\n",
    "-\n",
    "    Remove a term; “- 1” means removing the intercept (this means that the y-intercept of the line that we will fit will be 0—yes, this does the same thing as “+ 0”\n",
    "\n",
    ":\n",
    "    Interaction (multiplication for numeric values, or binarized categorical values)\n",
    "\n",
    ".\n",
    "    All columns except the target/dependent variable\n",
    "\n",
    "In order to specify transformations with this syntax, we need to import the relevant class. Then we go through the process of defining our formula. In this case we want to use all available variables (the .) and also add in the interactions between value1 and color and value2 and color, treating those as new features:\n"
   ]
  },
  {
   "cell_type": "code",
   "execution_count": 10,
   "id": "7a0be664",
   "metadata": {},
   "outputs": [],
   "source": [
    "from pyspark.ml.feature import RFormula\n",
    "\n",
    "supervised = RFormula(formula=\"lab ~ . + color:value1 + color:value2\")"
   ]
  },
  {
   "cell_type": "markdown",
   "id": "08ea7fc8",
   "metadata": {},
   "source": [
    "At this point, we have declaratively specified how we would like to change our data into what we will train our model on. \n",
    "\n",
    "The next step is to fit the RFormula transformer to the data to let it discover the possible values of each column. Not all transformers have this requirement but because RFormula will automatically handle categorical variables for us, it needs to determine which columns are categorical and which are not, as well as what the distinct values of the categorical columns are. For this reason, we have to call the fit method. Once we call fit, it returns a “trained” version of our transformer we can then use to actually transform our data."
   ]
  },
  {
   "cell_type": "code",
   "execution_count": 11,
   "id": "e432d247",
   "metadata": {},
   "outputs": [
    {
     "name": "stderr",
     "output_type": "stream",
     "text": [
      "                                                                                \r"
     ]
    },
    {
     "name": "stdout",
     "output_type": "stream",
     "text": [
      "+-----+----+------+------------------+--------------------+-----+\n",
      "|color| lab|value1|            value2|            features|label|\n",
      "+-----+----+------+------------------+--------------------+-----+\n",
      "|green|good|     1|14.386294994851129|(10,[1,2,3,5,8],[...|  1.0|\n",
      "| blue| bad|     8|14.386294994851129|(10,[2,3,6,9],[8....|  0.0|\n",
      "| blue| bad|    12|14.386294994851129|(10,[2,3,6,9],[12...|  0.0|\n",
      "+-----+----+------+------------------+--------------------+-----+\n",
      "only showing top 3 rows\n",
      "\n"
     ]
    }
   ],
   "source": [
    "fittedRF = supervised.fit(df)\n",
    "preparedDF = fittedRF.transform(df)\n",
    "preparedDF.show(3)"
   ]
  },
  {
   "cell_type": "markdown",
   "id": "e9e99552",
   "metadata": {},
   "source": [
    "In the output we can see the result of our transformation—a column called features that has our previously raw data. \n",
    "\n",
    "What’s happening behind the scenes is actually pretty simple.\n",
    "\n",
    "1) RFormula inspects our data during the fit call and outputs an object that will transform our data according to the specified formula, which is called an RFormulaModel. This “trained” transformer always has the word Model in the type signature. \n",
    "\n",
    "2) When we use this transformer, Spark automatically converts our categorical variable to Doubles so that we can input it into a (yet to be specified) machine learning model. In particular, it assigns a numerical value to each possible color category, creates additional features for the interaction variables between colors and value1/value2, and puts them all into a single vector. \n",
    "\n",
    "3) We then call transform on that object in order to transform our input data into the expected output data.\n",
    "\n",
    "Thus far you (pre)processed the data and added some features along the way. Now it is time to actually train a model (or a set of models) on this dataset. In order to do this, you first need to prepare a test set for evaluation.\n"
   ]
  },
  {
   "cell_type": "markdown",
   "id": "72bb8044",
   "metadata": {},
   "source": [
    "Let’s create a simple test set based off a random split of the data now (we’ll be using this test set\n",
    "throughout the remainder of the chapter):"
   ]
  },
  {
   "cell_type": "code",
   "execution_count": 12,
   "id": "178e3c14",
   "metadata": {},
   "outputs": [],
   "source": [
    "# in Python\n",
    "train, test = preparedDF.randomSplit([0.7, 0.3])"
   ]
  },
  {
   "cell_type": "markdown",
   "id": "31f1ea06",
   "metadata": {},
   "source": [
    "Estimators\n",
    "\n",
    "Now that we have transformed our data into the correct format and created some valuable\n",
    "features, it’s time to actually fit our model. \n",
    "\n",
    "In this case we will use a classification algorithm called logistic regression. To create our classifier we instantiate an instance of LogisticRegression, using the default configuration or hyperparameters. \n",
    "\n",
    "We then set the label columns and the feature columns; the column names we are setting—label and features—are actually the default labels for all estimators in Spark MLlib, and in later chapters we omit them:"
   ]
  },
  {
   "cell_type": "code",
   "execution_count": 19,
   "id": "d3e8bff3",
   "metadata": {},
   "outputs": [],
   "source": [
    "from pyspark.ml.classification import LogisticRegression\n",
    "lr = LogisticRegression(labelCol=\"label\",featuresCol=\"features\")"
   ]
  },
  {
   "cell_type": "code",
   "execution_count": 20,
   "id": "7004d285",
   "metadata": {},
   "outputs": [
    {
     "name": "stdout",
     "output_type": "stream",
     "text": [
      "aggregationDepth: suggested depth for treeAggregate (>= 2). (default: 2)\n",
      "elasticNetParam: the ElasticNet mixing parameter, in range [0, 1]. For alpha = 0, the penalty is an L2 penalty. For alpha = 1, it is an L1 penalty. (default: 0.0)\n",
      "family: The name of family which is a description of the label distribution to be used in the model. Supported options: auto, binomial, multinomial (default: auto)\n",
      "featuresCol: features column name. (default: features, current: features)\n",
      "fitIntercept: whether to fit an intercept term. (default: True)\n",
      "labelCol: label column name. (default: label, current: label)\n",
      "lowerBoundsOnCoefficients: The lower bounds on coefficients if fitting under bound constrained optimization. The bound matrix must be compatible with the shape (1, number of features) for binomial regression, or (number of classes, number of features) for multinomial regression. (undefined)\n",
      "lowerBoundsOnIntercepts: The lower bounds on intercepts if fitting under bound constrained optimization. The bounds vector size must beequal with 1 for binomial regression, or the number oflasses for multinomial regression. (undefined)\n",
      "maxBlockSizeInMB: maximum memory in MB for stacking input data into blocks. Data is stacked within partitions. If more than remaining data size in a partition then it is adjusted to the data size. Default 0.0 represents choosing optimal value, depends on specific algorithm. Must be >= 0. (default: 0.0)\n",
      "maxIter: max number of iterations (>= 0). (default: 100)\n",
      "predictionCol: prediction column name. (default: prediction)\n",
      "probabilityCol: Column name for predicted class conditional probabilities. Note: Not all models output well-calibrated probability estimates! These probabilities should be treated as confidences, not precise probabilities. (default: probability)\n",
      "rawPredictionCol: raw prediction (a.k.a. confidence) column name. (default: rawPrediction)\n",
      "regParam: regularization parameter (>= 0). (default: 0.0)\n",
      "standardization: whether to standardize the training features before fitting the model. (default: True)\n",
      "threshold: Threshold in binary classification prediction, in range [0, 1]. If threshold and thresholds are both set, they must match.e.g. if threshold is p, then thresholds must be equal to [1-p, p]. (default: 0.5)\n",
      "thresholds: Thresholds in multi-class classification to adjust the probability of predicting each class. Array must have length equal to the number of classes, with values > 0, excepting that at most one value may be 0. The class with largest value p/t is predicted, where p is the original probability of that class and t is the class's threshold. (undefined)\n",
      "tol: the convergence tolerance for iterative algorithms (>= 0). (default: 1e-06)\n",
      "upperBoundsOnCoefficients: The upper bounds on coefficients if fitting under bound constrained optimization. The bound matrix must be compatible with the shape (1, number of features) for binomial regression, or (number of classes, number of features) for multinomial regression. (undefined)\n",
      "upperBoundsOnIntercepts: The upper bounds on intercepts if fitting under bound constrained optimization. The bound vector size must be equal with 1 for binomial regression, or the number of classes for multinomial regression. (undefined)\n",
      "weightCol: weight column name. If this is not set or empty, we treat all instance weights as 1.0. (undefined)\n"
     ]
    }
   ],
   "source": [
    "print (lr.explainParams())"
   ]
  },
  {
   "cell_type": "markdown",
   "id": "d406868f",
   "metadata": {},
   "source": [
    "This code will kick off a Spark job to train the model. "
   ]
  },
  {
   "cell_type": "code",
   "execution_count": 22,
   "id": "8495fb3a",
   "metadata": {},
   "outputs": [],
   "source": [
    "fittedLR = lr.fit(train)"
   ]
  },
  {
   "cell_type": "markdown",
   "id": "087091a3",
   "metadata": {},
   "source": [
    "Once complete, you can use the model to make predictions. "
   ]
  },
  {
   "cell_type": "code",
   "execution_count": 23,
   "id": "0c865a2e",
   "metadata": {},
   "outputs": [
    {
     "name": "stdout",
     "output_type": "stream",
     "text": [
      "+-----+----------+\n",
      "|label|prediction|\n",
      "+-----+----------+\n",
      "|  0.0|       0.0|\n",
      "|  0.0|       0.0|\n",
      "|  0.0|       0.0|\n",
      "|  0.0|       0.0|\n",
      "|  0.0|       0.0|\n",
      "+-----+----------+\n",
      "only showing top 5 rows\n",
      "\n"
     ]
    }
   ],
   "source": [
    "fittedLR.transform(train).select(\"label\", \"prediction\").show(5)"
   ]
  },
  {
   "cell_type": "markdown",
   "id": "3481317b",
   "metadata": {},
   "source": [
    "Our next step would be to manually evaluate this model and calculate performance metrics like the true positive rate, false negative rate, and so on. \n",
    "--------------------------------------------"
   ]
  },
  {
   "cell_type": "markdown",
   "id": "be0f010d",
   "metadata": {},
   "source": [
    "Pipelining Our Workflow\n",
    "\n",
    "Spark includes the Pipeline concept. A pipeline allows you to set up a dataflow of the relevant transformations that ends with an estimator that is automatically tuned according to your specifications, resulting in a tuned model ready for use."
   ]
  },
  {
   "cell_type": "markdown",
   "id": "ee68b4de",
   "metadata": {},
   "source": [
    "In order to make sure we don’t overfit, we are going to create a holdout test set and tune our hyperparameters based on a validation set (note that we create this validation set based on the original dataset, not the preparedDF used in the previous pages):"
   ]
  },
  {
   "cell_type": "code",
   "execution_count": 24,
   "id": "c85ce830",
   "metadata": {},
   "outputs": [],
   "source": [
    "train, test = df.randomSplit([0.7, 0.3])"
   ]
  },
  {
   "cell_type": "markdown",
   "id": "034c8088",
   "metadata": {},
   "source": [
    "Now that you have a holdout set, let’s create the base stages in our pipeline. A stage simply represents a transformer or an estimator. In our case, we will have two estimators. \n",
    "\n",
    "The RFomula will first analyze our data to understand the types of input features and then transform them to create new features. Subsequently, the LogisticRegression object is the algorithm that we will train to produce a model:"
   ]
  },
  {
   "cell_type": "code",
   "execution_count": 26,
   "id": "69af20f9",
   "metadata": {},
   "outputs": [],
   "source": [
    "rForm = RFormula()\n",
    "lr = LogisticRegression().setLabelCol(\"label\").setFeaturesCol(\"features\")"
   ]
  },
  {
   "cell_type": "markdown",
   "id": "f6e967ce",
   "metadata": {},
   "source": [
    "We will set the potential values for the RFormula in the next section. Now instead of manually using our transformations and then tuning our model we just make them stages in the overall pipeline, as in the following code snippet:"
   ]
  },
  {
   "cell_type": "code",
   "execution_count": 27,
   "id": "b41b8e67",
   "metadata": {},
   "outputs": [],
   "source": [
    "from pyspark.ml import Pipeline\n",
    "\n",
    "stages = [rForm, lr]\n",
    "pipeline = Pipeline().setStages(stages)"
   ]
  },
  {
   "cell_type": "markdown",
   "id": "17965c69",
   "metadata": {},
   "source": [
    "Training and Evaluation\n",
    "\n",
    "Now that you arranged the logical pipeline, the next step is training. \n",
    "\n",
    "In our case, we won’t train just one model (like we did previously); we will train several variations of the model by specifying different combinations of hyperparameters that we would like Spark to test. \n",
    "\n",
    "We will then select the best model using an Evaluator that compares their predictions on our validation data. We can test different hyperparameters in the entire pipeline, even in the RFormula that we use to manipulate the raw data. This code shows how we go about doing that:"
   ]
  },
  {
   "cell_type": "markdown",
   "id": "dcb83c4e",
   "metadata": {},
   "source": [
    "In our current paramter grid, there are three hyperparameters that will diverge from the defaults:\n",
    "    Two different versions of the RFormula\n",
    "    Three different options for the ElasticNet parameter\n",
    "    Two different options for the regularization parameter\n",
    "\n",
    "This gives us a total of 12 different combinations of these parameters, which means we will be training 12 different versions of logistic regression. "
   ]
  },
  {
   "cell_type": "code",
   "execution_count": 36,
   "id": "5afb7238",
   "metadata": {},
   "outputs": [],
   "source": [
    "from pyspark.ml.tuning import ParamGridBuilder\n",
    "\n",
    "params = ParamGridBuilder()\\\n",
    "    .addGrid(rForm.formula, [\n",
    "                            \"lab ~ . + color:value1\",\n",
    "                            \"lab ~ . + color:value1 + color:value2\"])\\\n",
    "    .addGrid(lr.elasticNetParam, [0.0, 0.5, 1.0])\\\n",
    "    .addGrid(lr.regParam, [0.1, 2.0])\\\n",
    "    .build()"
   ]
  },
  {
   "cell_type": "markdown",
   "id": "b7852884",
   "metadata": {},
   "source": [
    "Now that the grid is built, it’s time to specify our evaluation process. \n",
    "\n",
    "The evaluator allows us to automatically and objectively compare multiple models to the same evaluation metric. "
   ]
  },
  {
   "cell_type": "code",
   "execution_count": 37,
   "id": "5d09e733",
   "metadata": {},
   "outputs": [],
   "source": [
    "from pyspark.ml.evaluation import BinaryClassificationEvaluator\n",
    "\n",
    "evaluator = BinaryClassificationEvaluator()\\\n",
    "    .setMetricName(\"areaUnderROC\")\\\n",
    "    .setRawPredictionCol(\"prediction\")\\\n",
    "    .setLabelCol(\"label\")"
   ]
  },
  {
   "cell_type": "markdown",
   "id": "42a9414c",
   "metadata": {},
   "source": [
    "Now that we have a pipeline that specifies how our data should be transformed, we will perform model selection to try out different hyperparameters in our logistic regression model and measure success by comparing their performance using the areaUnderROC metric.\n",
    "\n",
    "As we discussed, it is a best practice in machine learning to fit hyperparameters on a validation set (instead of your test set) to prevent overfitting. For this reason, we cannot use our holdout test set (that we created before) to tune these parameters. \n",
    "\n",
    "Luckily, Spark provides two options for performing hyperparameter tuning automatically. We can use TrainValidationSplit, which will simply perform an arbitrary random split of our data into two different groups, or CrossValidator, which performs K-fold cross-validation by splitting the dataset into k non\u0002overlapping, randomly partitioned folds:"
   ]
  },
  {
   "cell_type": "code",
   "execution_count": 38,
   "id": "09eeecee",
   "metadata": {},
   "outputs": [],
   "source": [
    "from pyspark.ml.tuning import TrainValidationSplit\n",
    "\n",
    "tvs = TrainValidationSplit()\\\n",
    "    .setTrainRatio(0.75)\\\n",
    "    .setEstimatorParamMaps(params)\\\n",
    "    .setEstimator(pipeline)\\\n",
    "    .setEvaluator(evaluator)"
   ]
  },
  {
   "cell_type": "markdown",
   "id": "bf034b5d",
   "metadata": {},
   "source": [
    "Let’s run the entire pipeline we constructed. \n",
    "\n",
    "To review, running this pipeline will test out every version of the model against the validation set. Note the type of tvsFitted is TrainValidationSplitModel. Any time we fit a given model, it outputs a “model” type:"
   ]
  },
  {
   "cell_type": "code",
   "execution_count": 39,
   "id": "f0f3203f",
   "metadata": {},
   "outputs": [],
   "source": [
    "tvsFitted = tvs.fit(train)"
   ]
  },
  {
   "cell_type": "markdown",
   "id": "fc09f10c",
   "metadata": {},
   "source": [
    "And of course evaluate how it performs on the test set!"
   ]
  },
  {
   "cell_type": "code",
   "execution_count": 40,
   "id": "11ef7f52",
   "metadata": {},
   "outputs": [
    {
     "data": {
      "text/plain": [
       "1.0"
      ]
     },
     "execution_count": 40,
     "metadata": {},
     "output_type": "execute_result"
    }
   ],
   "source": [
    "evaluator.evaluate(tvsFitted.transform(test)) // 0.916666666666666"
   ]
  }
 ],
 "metadata": {
  "kernelspec": {
   "display_name": "Python 3 (ipykernel)",
   "language": "python",
   "name": "python3"
  }
 },
 "nbformat": 4,
 "nbformat_minor": 5
}
